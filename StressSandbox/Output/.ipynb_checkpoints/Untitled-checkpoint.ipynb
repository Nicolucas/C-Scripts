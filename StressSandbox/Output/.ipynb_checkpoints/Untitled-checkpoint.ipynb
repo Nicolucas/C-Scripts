{
 "cells": [
  {
   "cell_type": "code",
   "execution_count": 1,
   "metadata": {},
   "outputs": [],
   "source": [
    "import pandas as pd\n",
    "import matplotlib.pyplot as plt\n",
    "\n",
    "from matplotlib.gridspec import GridSpec\n",
    "\n",
    "\n",
    "from matplotlib import rc"
   ]
  },
  {
   "cell_type": "code",
   "execution_count": 2,
   "metadata": {},
   "outputs": [],
   "source": [
    "\n",
    "\n",
    "rc('font',**{'family':'sans-serif','sans-serif':['Helvetica']})\n",
    "rc('text', usetex=True)\n",
    "\n"
   ]
  },
  {
   "cell_type": "code",
   "execution_count": 4,
   "metadata": {},
   "outputs": [],
   "source": [
    "def format_axes(fig):\n",
    "    for i, ax in enumerate(fig.axes):\n",
    "        ax.tick_params(labelbottom=True, labelleft=True)\n",
    "        \n",
    "def PlotRow(FileName, XLabel, YLabel, title, axis):\n",
    "    FrictionData = pd.read_csv(FileName,sep=\";\",header=None,names=[\"time\", \"Tau\", \"Slip\"])\n",
    "    FrictionData.plot(x=XLabel[0], y=YLabel[0], title = title, ax=axis)\n",
    "    axis.set_xlabel(XLabel[1])\n",
    "    axis.set_ylabel(YLabel[1])\n",
    "    \n",
    "def PlotRows(FileName,ListOfAxes,title):\n",
    "    PlotRow(FileName, [\"time\",\"$Time$\"], [\"Tau\",\"$Tau$\"], title, ListOfAxes[0])\n",
    "    PlotRow(FileName, [\"time\",\"$Time$\"], [\"Slip\",\"$Slip$\"], title, ListOfAxes[1])\n",
    "\n"
   ]
  },
  {
   "cell_type": "code",
   "execution_count": null,
   "metadata": {},
   "outputs": [],
   "source": []
  }
 ],
 "metadata": {
  "kernelspec": {
   "display_name": "Python 3",
   "language": "python",
   "name": "python3"
  },
  "language_info": {
   "codemirror_mode": {
    "name": "ipython",
    "version": 3
   },
   "file_extension": ".py",
   "mimetype": "text/x-python",
   "name": "python",
   "nbconvert_exporter": "python",
   "pygments_lexer": "ipython3",
   "version": "3.5.6"
  }
 },
 "nbformat": 4,
 "nbformat_minor": 2
}
