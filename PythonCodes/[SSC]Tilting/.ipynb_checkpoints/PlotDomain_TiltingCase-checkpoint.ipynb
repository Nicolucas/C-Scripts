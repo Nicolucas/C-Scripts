{
 "cells": [
  {
   "cell_type": "code",
   "execution_count": 1,
   "metadata": {},
   "outputs": [],
   "source": [
    "import os, sys, glob\n",
    "from matplotlib import pyplot as plt\n",
    "from scipy.interpolate import RectBivariateSpline\n",
    "\n",
    "sys.path.insert(0,\"/home/nico/Documents/TEAR/Codes_TEAR/PythonCodes/LibFolder\")\n",
    "from Lib_GeneralFunctions import *\n",
    "from Lib_ProfilePlotting import *\n",
    "from Lib_ProfileProcessing import *\n",
    "\n",
    "from se2waveload import *\n",
    "\n",
    "LocIni,LocEnd = [4000, -400], [4000, 400]\n",
    "NumPoints = 1000\n",
    "delta = 50.005 #not used\n",
    "\n",
    "path = \"/home/nico/Documents/TEAR/Codes_TEAR/se2dr/se2wave/\"\n",
    "#path = \"/home/nico/Documents/TEAR/Codes_TEAR/plot-utils_se2wave/se2wave/\"\n",
    "#path = \"/media/nico/Elements/Simulations/20200728/SSCdeg2/\"\n",
    "#path = \"/home/nico/Documents/TEAR/Codes_TEAR/ProfilePicking/Output/20200729/TPV3-P1-Default/\"\n",
    "filename = os.path.join(path,\"default_mesh_coor.pbin\")\n",
    "\n",
    "OutputFolder=\"/home/nico/Documents/TEAR/Codes_TEAR/ProfilePicking/Output/\"+GetTodayDate()+\"/\"\n",
    "CreateFolder(OutputFolder)\n",
    "\n",
    "se2_coor = se2wave_load_coordinates(filename)\n",
    "\n",
    "# Change between specific timestep(file) or just the last one\n",
    "LastTimeStep=False\n",
    "if (LastTimeStep):\n",
    "    files = glob.glob(os.path.join(path,\"step-*_wavefield.pbin\"))\n",
    "    w_filename= sorted(files)[-1]\n",
    "else:\n",
    "    w_filename = os.path.join(path,\"step-2000_wavefield.pbin\")\n",
    "\n",
    "# Load wavefield file\n",
    "se2_field = se2wave_load_wavefield(w_filename,True,True)\n",
    "\n",
    "# Separate field components into matrices\n",
    "LCoorX, LCoorY = SeparateList(se2_coor['coor'], se2_coor['nx'].item(), se2_coor['ny'].item())\n",
    "LFieldX, LFieldY = SeparateList(se2_field['vel'], se2_field['nx'].item(), se2_field['ny'].item())\n"
   ]
  },
  {
   "cell_type": "code",
   "execution_count": 14,
   "metadata": {},
   "outputs": [],
   "source": [
    "def TiltDomain(angle,xComp,yComp):\n",
    "    NewXComp = np.array(xComp) * np.cos(angle * np.pi / 180.0) + np.array(yComp) * np.sin(angle * np.pi / 180.0) \n",
    "    NewYComp = -np.array(xComp) * np.sin(angle * np.pi / 180.0) + np.array(yComp) * np.cos(angle * np.pi / 180.0) \n",
    "    return NewXComp, NewYComp\n",
    "    \n",
    "\n",
    "def Tilt_SeparateList(List2Sep,nx,ny,angle):\n",
    "    TotNum = len(List2Sep)\n",
    "    xComponent = List2Sep[0:TotNum:2]\n",
    "    yComponent = List2Sep[1:TotNum:2]\n",
    "    \n",
    "    xComponent,yComponent = TiltDomain(angle,xComponent,yComponent)\n",
    "    \n",
    "    xComponent = np.reshape(xComponent, (nx, ny), \"F\")\n",
    "    yComponent = np.reshape(yComponent, (nx, ny), \"F\")\n",
    "    return xComponent,yComponent"
   ]
  },
  {
   "cell_type": "code",
   "execution_count": 15,
   "metadata": {},
   "outputs": [],
   "source": [
    "LFieldX, LFieldY = Tilt_SeparateList(se2_field['vel'], se2_field['nx'].item(), se2_field['ny'].item(),90)"
   ]
  },
  {
   "cell_type": "code",
   "execution_count": 16,
   "metadata": {},
   "outputs": [
    {
     "data": {
      "text/plain": [
       "array([[0., 0., 0., ..., 0., 0., 0.],\n",
       "       [0., 0., 0., ..., 0., 0., 0.],\n",
       "       [0., 0., 0., ..., 0., 0., 0.],\n",
       "       ...,\n",
       "       [0., 0., 0., ..., 0., 0., 0.],\n",
       "       [0., 0., 0., ..., 0., 0., 0.],\n",
       "       [0., 0., 0., ..., 0., 0., 0.]])"
      ]
     },
     "execution_count": 16,
     "metadata": {},
     "output_type": "execute_result"
    }
   ],
   "source": [
    "LFieldX"
   ]
  },
  {
   "cell_type": "code",
   "execution_count": null,
   "metadata": {},
   "outputs": [],
   "source": []
  }
 ],
 "metadata": {
  "kernelspec": {
   "display_name": "Python 3",
   "language": "python",
   "name": "python3"
  },
  "language_info": {
   "codemirror_mode": {
    "name": "ipython",
    "version": 3
   },
   "file_extension": ".py",
   "mimetype": "text/x-python",
   "name": "python",
   "nbconvert_exporter": "python",
   "pygments_lexer": "ipython3",
   "version": "3.5.6"
  }
 },
 "nbformat": 4,
 "nbformat_minor": 2
}
