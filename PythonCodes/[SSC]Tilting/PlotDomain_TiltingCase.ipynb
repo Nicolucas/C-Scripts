{
 "cells": [
  {
   "cell_type": "code",
   "execution_count": 1,
   "metadata": {},
   "outputs": [
    {
     "ename": "FileNotFoundError",
     "evalue": "[Errno 2] No such file or directory: '/home/nico/Documents/TEAR/Codes_TEAR/se2dr/se2wave/step-2000_wavefield.pbin'",
     "output_type": "error",
     "traceback": [
      "\u001b[0;31m---------------------------------------------------------------------------\u001b[0m",
      "\u001b[0;31mFileNotFoundError\u001b[0m                         Traceback (most recent call last)",
      "\u001b[0;32m<ipython-input-1-6b66152f746b>\u001b[0m in \u001b[0;36m<module>\u001b[0;34m()\u001b[0m\n\u001b[1;32m     34\u001b[0m \u001b[0;34m\u001b[0m\u001b[0m\n\u001b[1;32m     35\u001b[0m \u001b[0;31m# Load wavefield file\u001b[0m\u001b[0;34m\u001b[0m\u001b[0;34m\u001b[0m\u001b[0m\n\u001b[0;32m---> 36\u001b[0;31m \u001b[0mse2_field\u001b[0m \u001b[0;34m=\u001b[0m \u001b[0mse2wave_load_wavefield\u001b[0m\u001b[0;34m(\u001b[0m\u001b[0mw_filename\u001b[0m\u001b[0;34m,\u001b[0m\u001b[0;32mTrue\u001b[0m\u001b[0;34m,\u001b[0m\u001b[0;32mTrue\u001b[0m\u001b[0;34m)\u001b[0m\u001b[0;34m\u001b[0m\u001b[0m\n\u001b[0m\u001b[1;32m     37\u001b[0m \u001b[0;34m\u001b[0m\u001b[0m\n\u001b[1;32m     38\u001b[0m \u001b[0;31m# Separate field components into matrices\u001b[0m\u001b[0;34m\u001b[0m\u001b[0;34m\u001b[0m\u001b[0m\n",
      "\u001b[0;32m/home/nico/Documents/TEAR/Codes_TEAR/plot-utils_se2wave/se2wave/utils/python/se2waveload.py\u001b[0m in \u001b[0;36mse2wave_load_wavefield\u001b[0;34m(filename, has_displacement, has_velocity, debug)\u001b[0m\n\u001b[1;32m     44\u001b[0m   \u001b[0mio\u001b[0m \u001b[0;34m=\u001b[0m \u001b[0mpio\u001b[0m\u001b[0;34m.\u001b[0m\u001b[0mPetscBinaryIO\u001b[0m\u001b[0;34m(\u001b[0m\u001b[0;34m)\u001b[0m\u001b[0;34m\u001b[0m\u001b[0m\n\u001b[1;32m     45\u001b[0m   \u001b[0mdata\u001b[0m \u001b[0;34m=\u001b[0m \u001b[0mdict\u001b[0m\u001b[0;34m(\u001b[0m\u001b[0;34m)\u001b[0m\u001b[0;34m\u001b[0m\u001b[0m\n\u001b[0;32m---> 46\u001b[0;31m   \u001b[0;32mwith\u001b[0m \u001b[0mopen\u001b[0m\u001b[0;34m(\u001b[0m\u001b[0mfilename\u001b[0m\u001b[0;34m)\u001b[0m \u001b[0;32mas\u001b[0m \u001b[0mfp\u001b[0m\u001b[0;34m:\u001b[0m\u001b[0;34m\u001b[0m\u001b[0m\n\u001b[0m\u001b[1;32m     47\u001b[0m     \u001b[0mv\u001b[0m \u001b[0;34m=\u001b[0m \u001b[0mio\u001b[0m\u001b[0;34m.\u001b[0m\u001b[0mreadInteger\u001b[0m\u001b[0;34m(\u001b[0m\u001b[0mfp\u001b[0m\u001b[0;34m)\u001b[0m\u001b[0;34m\u001b[0m\u001b[0m\n\u001b[1;32m     48\u001b[0m     \u001b[0mdata\u001b[0m\u001b[0;34m[\u001b[0m\u001b[0;34m'mx'\u001b[0m\u001b[0;34m]\u001b[0m \u001b[0;34m=\u001b[0m \u001b[0mv\u001b[0m\u001b[0;34m\u001b[0m\u001b[0m\n",
      "\u001b[0;31mFileNotFoundError\u001b[0m: [Errno 2] No such file or directory: '/home/nico/Documents/TEAR/Codes_TEAR/se2dr/se2wave/step-2000_wavefield.pbin'"
     ]
    }
   ],
   "source": [
    "import os, sys, glob\n",
    "from matplotlib import pyplot as plt\n",
    "from scipy.interpolate import RectBivariateSpline\n",
    "\n",
    "sys.path.insert(0,\"/home/nico/Documents/TEAR/Codes_TEAR/PythonCodes/LibFolder\")\n",
    "from Lib_GeneralFunctions import *\n",
    "from Lib_ProfilePlotting import *\n",
    "from Lib_ProfileProcessing import *\n",
    "\n",
    "from se2waveload import *\n",
    "\n",
    "LocIni,LocEnd = [4000, -400], [4000, 400]\n",
    "NumPoints = 1000\n",
    "delta = 50.005 #not used\n",
    "\n",
    "path = \"/home/nico/Documents/TEAR/Codes_TEAR/se2dr/se2wave/\"\n",
    "#path = \"/home/nico/Documents/TEAR/Codes_TEAR/plot-utils_se2wave/se2wave/\"\n",
    "#path = \"/media/nico/Elements/Simulations/20200728/SSCdeg2/\"\n",
    "#path = \"/home/nico/Documents/TEAR/Codes_TEAR/ProfilePicking/Output/20200729/TPV3-P1-Default/\"\n",
    "filename = os.path.join(path,\"default_mesh_coor.pbin\")\n",
    "\n",
    "OutputFolder=\"/home/nico/Documents/TEAR/Codes_TEAR/ProfilePicking/Output/\"+GetTodayDate()+\"/\"\n",
    "CreateFolder(OutputFolder)\n",
    "\n",
    "se2_coor = se2wave_load_coordinates(filename)\n",
    "\n",
    "# Change between specific timestep(file) or just the last one\n",
    "LastTimeStep=False\n",
    "if (LastTimeStep):\n",
    "    files = glob.glob(os.path.join(path,\"step-*_wavefield.pbin\"))\n",
    "    w_filename= sorted(files)[-1]\n",
    "else:\n",
    "    w_filename = os.path.join(path,\"step-2000_wavefield.pbin\")\n",
    "\n",
    "# Load wavefield file\n",
    "se2_field = se2wave_load_wavefield(w_filename,True,True)\n",
    "\n",
    "# Separate field components into matrices\n",
    "LCoorX, LCoorY = SeparateList(se2_coor['coor'], se2_coor['nx'].item(), se2_coor['ny'].item())\n",
    "LFieldX, LFieldY = SeparateList(se2_field['vel'], se2_field['nx'].item(), se2_field['ny'].item())\n"
   ]
  },
  {
   "cell_type": "code",
   "execution_count": 2,
   "metadata": {},
   "outputs": [],
   "source": [
    "def TiltDomain(angle,xComp,yComp):\n",
    "    NewXComp = np.array(xComp) * np.cos(angle * np.pi / 180.0) + np.array(yComp) * np.sin(angle * np.pi / 180.0) \n",
    "    NewYComp = -np.array(xComp) * np.sin(angle * np.pi / 180.0) + np.array(yComp) * np.cos(angle * np.pi / 180.0) \n",
    "    return NewXComp, NewYComp\n",
    "    \n",
    "\n",
    "def Tilt_SeparateList(List2Sep,nx,ny,angle):\n",
    "    TotNum = len(List2Sep)\n",
    "    xComponent = List2Sep[0:TotNum:2]\n",
    "    yComponent = List2Sep[1:TotNum:2]\n",
    "    \n",
    "    xComponent,yComponent = TiltDomain(angle,xComponent,yComponent)\n",
    "    \n",
    "    xComponent = np.reshape(xComponent, (nx, ny), \"F\")\n",
    "    yComponent = np.reshape(yComponent, (nx, ny), \"F\")\n",
    "    return xComponent,yComponent"
   ]
  },
  {
   "cell_type": "code",
   "execution_count": 3,
   "metadata": {},
   "outputs": [
    {
     "ename": "NameError",
     "evalue": "name 'se2_field' is not defined",
     "output_type": "error",
     "traceback": [
      "\u001b[0;31m---------------------------------------------------------------------------\u001b[0m",
      "\u001b[0;31mNameError\u001b[0m                                 Traceback (most recent call last)",
      "\u001b[0;32m<ipython-input-3-cda86f8b3bbc>\u001b[0m in \u001b[0;36m<module>\u001b[0;34m()\u001b[0m\n\u001b[0;32m----> 1\u001b[0;31m \u001b[0mLFieldX\u001b[0m\u001b[0;34m,\u001b[0m \u001b[0mLFieldY\u001b[0m \u001b[0;34m=\u001b[0m \u001b[0mTilt_SeparateList\u001b[0m\u001b[0;34m(\u001b[0m\u001b[0mse2_field\u001b[0m\u001b[0;34m[\u001b[0m\u001b[0;34m'vel'\u001b[0m\u001b[0;34m]\u001b[0m\u001b[0;34m,\u001b[0m \u001b[0mse2_field\u001b[0m\u001b[0;34m[\u001b[0m\u001b[0;34m'nx'\u001b[0m\u001b[0;34m]\u001b[0m\u001b[0;34m.\u001b[0m\u001b[0mitem\u001b[0m\u001b[0;34m(\u001b[0m\u001b[0;34m)\u001b[0m\u001b[0;34m,\u001b[0m \u001b[0mse2_field\u001b[0m\u001b[0;34m[\u001b[0m\u001b[0;34m'ny'\u001b[0m\u001b[0;34m]\u001b[0m\u001b[0;34m.\u001b[0m\u001b[0mitem\u001b[0m\u001b[0;34m(\u001b[0m\u001b[0;34m)\u001b[0m\u001b[0;34m,\u001b[0m\u001b[0;36m90\u001b[0m\u001b[0;34m)\u001b[0m\u001b[0;34m\u001b[0m\u001b[0m\n\u001b[0m",
      "\u001b[0;31mNameError\u001b[0m: name 'se2_field' is not defined"
     ]
    }
   ],
   "source": [
    "LFieldX, LFieldY = Tilt_SeparateList(se2_field['vel'], se2_field['nx'].item(), se2_field['ny'].item(),90)"
   ]
  },
  {
   "cell_type": "code",
   "execution_count": null,
   "metadata": {},
   "outputs": [],
   "source": [
    "LFieldX"
   ]
  },
  {
   "cell_type": "code",
   "execution_count": null,
   "metadata": {},
   "outputs": [],
   "source": []
  },
  {
   "cell_type": "code",
   "execution_count": null,
   "metadata": {},
   "outputs": [],
   "source": []
  },
  {
   "cell_type": "code",
   "execution_count": 4,
   "metadata": {},
   "outputs": [],
   "source": [
    "thickness=50\n",
    "Locations1 = [[8000,thickness],[6000,thickness],[4000,thickness],[2000,thickness],[0,thickness]]\n",
    "\n",
    "#Locations in the real domain\n",
    "Locations2 = [list(ApplyTilting(90,Loc[0],Loc[1])) for Loc in Locations1]"
   ]
  },
  {
   "cell_type": "code",
   "execution_count": 5,
   "metadata": {},
   "outputs": [
    {
     "data": {
      "image/png": "[encoded data removed]",
      "text/plain": [
       "<Figure size 432x288 with 1 Axes>"
      ]
     },
     "metadata": {
      "needs_background": "light"
     },
     "output_type": "display_data"
    }
   ],
   "source": [
    "x1, y1 = zip(*Locations1)\n",
    "x2, y2 = zip(*Locations2)\n",
    "plt.scatter(x1, y1)\n",
    "plt.scatter(x2, y2)\n",
    "plt.grid()"
   ]
  },
  {
   "cell_type": "code",
   "execution_count": null,
   "metadata": {},
   "outputs": [],
   "source": [
    "list(ApplyTilting(90,0,1))"
   ]
  },
  {
   "cell_type": "code",
   "execution_count": null,
   "metadata": {},
   "outputs": [],
   "source": [
    "ApplyTilting(90,0,1)"
   ]
  },
  {
   "cell_type": "code",
   "execution_count": null,
   "metadata": {},
   "outputs": [],
   "source": [
    "ApplyTilting(90,20,40)"
   ]
  },
  {
   "cell_type": "code",
   "execution_count": null,
   "metadata": {},
   "outputs": [],
   "source": []
  }
 ],
 "metadata": {
  "kernelspec": {
   "display_name": "Python 3",
   "language": "python",
   "name": "python3"
  },
  "language_info": {
   "codemirror_mode": {
    "name": "ipython",
    "version": 3
   },
   "file_extension": ".py",
   "mimetype": "text/x-python",
   "name": "python",
   "nbconvert_exporter": "python",
   "pygments_lexer": "ipython3",
   "version": "3.5.6"
  }
 },
 "nbformat": 4,
 "nbformat_minor": 2
}
