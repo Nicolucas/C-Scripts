{
 "cells": [
  {
   "cell_type": "markdown",
   "metadata": {},
   "source": [
    "# [TPV3] Plotting reference from SEM2DPACK and $se2dr$'s receiverCP file\n",
    "by JN Hayek (Created on 06.08.2020)\n",
    "\n"
   ]
  },
  {
   "cell_type": "markdown",
   "metadata": {},
   "source": [
    "## Library import"
   ]
  },
  {
   "cell_type": "code",
   "execution_count": 1,
   "metadata": {},
   "outputs": [],
   "source": [
    "import os, sys, math, time\n",
    "\n",
    "from glob import glob\n",
    "from matplotlib import pyplot as plt\n",
    "import numpy as np\n",
    "import pandas as pd\n",
    "\n",
    "sys.path.insert(0,\"/home/nico/Documents/TEAR/Codes_TEAR/PythonCodes/LibFolder\")\n",
    "from Lib_GeneralFunctions import *\n",
    "from Lib_GeneralSignalProcNAnalysis import *\n",
    "from Lib_ProfilePlotting import *\n",
    "from Lib_ProfileProcessing import *\n",
    "\n",
    "\n",
    "#=================== Plotting style ===================\n",
    "plt.style.use('seaborn-whitegrid')\n",
    "\n",
    "from matplotlib import cm\n",
    "from matplotlib.colors import ListedColormap\n",
    "from matplotlib.lines import Line2D\n",
    "\n",
    "viridisBig = cm.get_cmap('viridis_r', 512)\n",
    "cmap = ListedColormap(viridisBig(np.linspace(0.20, 1., 256)))"
   ]
  },
  {
   "cell_type": "code",
   "execution_count": 2,
   "metadata": {},
   "outputs": [],
   "source": [
    "# Timestamp variable\n",
    "start_time = time.time()"
   ]
  },
  {
   "cell_type": "code",
   "execution_count": 3,
   "metadata": {},
   "outputs": [],
   "source": [
    "class TPV3reference:\n",
    "    def __init__(self, filename, coordinates, RefSource=\"SEM2DPACK\"):\n",
    "        \n",
    "        \n",
    "        data = np.transpose(np.loadtxt(filename,delimiter=\",\")).tolist()\n",
    "        self.Time = data[0]\n",
    "        self.Slip = data[1]\n",
    "        self.SlipRate = data[2]\n",
    "        \n",
    "        self.Coord = coordinates\n",
    "        self.RefSource = RefSource\n",
    "    #end __init__\n",
    "    \n",
    "    def __repr__(self):\n",
    "        return \"The TPV3reference object was generated from: {} and the receiver is located at {}\".format(self.RefSource, self.Coord)\n",
    "    #end __repr__\n",
    "    \n",
    "    def __str__(self):\n",
    "        return \"The TPV3reference object was generated from: {} and the receiver is located at {}\".format(self.RefSource, self.Coord)\n",
    "    #end __str__\n",
    "    \n",
    "    \n",
    "    "
   ]
  },
  {
   "cell_type": "code",
   "execution_count": 9,
   "metadata": {},
   "outputs": [],
   "source": [
    "path = \"/home/nico/Documents/TEAR/Codes_TEAR/ProfilePicking/[TPV3]Results/Reference/\"\n",
    "\n",
    "LocList = [4.0e+03, 6.0e+03, 8.0e+03, 1.0e+04]\n",
    "\n",
    "Objs = [TPV3reference(path+r\"[TPV3]sem2dpack-receiver{:.1e}_t-s-sr.txt\".format(i),i) for i in LocList]"
   ]
  },
  {
   "cell_type": "code",
   "execution_count": 14,
   "metadata": {},
   "outputs": [
    {
     "data": {
      "text/plain": [
       "[<matplotlib.lines.Line2D at 0x154cd860c710>]"
      ]
     },
     "execution_count": 14,
     "metadata": {},
     "output_type": "execute_result"
    },
    {
     "data": {
      "image/png": "[encoded data removed]",
      "text/plain": [
       "<Figure size 432x288 with 1 Axes>"
      ]
     },
     "metadata": {
      "needs_background": "light"
     },
     "output_type": "display_data"
    }
   ],
   "source": [
    "plt.plot(Objs[1].Time,Objs[1].SlipRate)"
   ]
  },
  {
   "cell_type": "code",
   "execution_count": null,
   "metadata": {},
   "outputs": [],
   "source": []
  }
 ],
 "metadata": {
  "kernelspec": {
   "display_name": "Python 3",
   "language": "python",
   "name": "python3"
  },
  "language_info": {
   "codemirror_mode": {
    "name": "ipython",
    "version": 3
   },
   "file_extension": ".py",
   "mimetype": "text/x-python",
   "name": "python",
   "nbconvert_exporter": "python",
   "pygments_lexer": "ipython3",
   "version": "3.5.6"
  }
 },
 "nbformat": 4,
 "nbformat_minor": 2
}
